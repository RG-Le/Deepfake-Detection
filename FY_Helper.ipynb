{
 "cells": [
  {
   "cell_type": "markdown",
   "id": "b63ab38c",
   "metadata": {},
   "source": [
    "## Removing Audio Files"
   ]
  },
  {
   "cell_type": "code",
   "execution_count": null,
   "id": "cb8a3898",
   "metadata": {},
   "outputs": [],
   "source": [
    "import glob\n",
    "import pandas as pd"
   ]
  },
  {
   "cell_type": "code",
   "execution_count": null,
   "id": "33f5da53",
   "metadata": {},
   "outputs": [],
   "source": [
    "path = 'C:/Onedrive/Desktop/Final Year Project/Dataset/train_videos/'\n",
    "video_files = glob.glob(path + \"*.mp4\")"
   ]
  },
  {
   "cell_type": "code",
   "execution_count": null,
   "id": "756d56ef",
   "metadata": {},
   "outputs": [],
   "source": [
    "len(video_files)"
   ]
  },
  {
   "cell_type": "code",
   "execution_count": null,
   "id": "c83c305f",
   "metadata": {},
   "outputs": [],
   "source": [
    "names =[]\n",
    "for i in video_files:\n",
    "    names.append(i.split(\"\\\\\")[-1])\n",
    "\n",
    "print(len(names))"
   ]
  },
  {
   "cell_type": "code",
   "execution_count": null,
   "id": "569aa0eb",
   "metadata": {},
   "outputs": [],
   "source": [
    "media_altered = pd.read_csv(\"C:/Onedrive/Desktop/Final Year Project/Dataset/metadata_audio_altered.csv\")"
   ]
  },
  {
   "cell_type": "code",
   "execution_count": null,
   "id": "3db7b387",
   "metadata": {},
   "outputs": [],
   "source": [
    "common = []\n",
    "for i in names:\n",
    "    if i in altered:\n",
    "        common.append(i)\n",
    "        \n",
    "print(len(common), len(names))"
   ]
  },
  {
   "cell_type": "code",
   "execution_count": null,
   "id": "4e496641",
   "metadata": {},
   "outputs": [],
   "source": [
    "import os\n",
    "for i in common:\n",
    "    file =path+i\n",
    "    if os.path.exists(file):\n",
    "        os.remove(path+i)\n",
    "    else:\n",
    "        print(\"The file does not exist\")"
   ]
  },
  {
   "cell_type": "code",
   "execution_count": null,
   "id": "91374f4f",
   "metadata": {},
   "outputs": [],
   "source": [
    "new = glob.glob(path + \"*.mp4\")\n",
    "len(new)"
   ]
  },
  {
   "cell_type": "markdown",
   "id": "a9d1abf7",
   "metadata": {},
   "source": [
    "## Copying Real and Fake Vids"
   ]
  },
  {
   "cell_type": "code",
   "execution_count": 1,
   "id": "e9267994",
   "metadata": {},
   "outputs": [],
   "source": [
    "import json\n",
    "\n",
    "path_to_json='C:/Onedrive/Desktop/Final Year Project/Dataset/Gobal_metadata.json'\n",
    "with open(path_to_json) as f:\n",
    "    labels = json.load(f)"
   ]
  },
  {
   "cell_type": "code",
   "execution_count": null,
   "id": "40a4863e",
   "metadata": {},
   "outputs": [],
   "source": [
    "df = pd.DataFrame(labels).T\n",
    "df.sort_values('label')\n",
    "df.loc[df['label'] == 'REAL']\n",
    "read_df = pd.DataFrame(df.loc[df['label'] == 'REAL'])\n",
    "read_df.index.values\n",
    "read_df_fake = pd.DataFrame(df.loc[df['label'] == 'FAKE'])\n",
    "read_df.index.values\n",
    "\n",
    "list_of_real = list(read_df.index.values)\n",
    "list_of_fake = list(read_df_fake.index.values)\n",
    "print(len(list_of_real),len(list_of_fake))"
   ]
  },
  {
   "cell_type": "code",
   "execution_count": null,
   "id": "32a1021f",
   "metadata": {},
   "outputs": [],
   "source": [
    "path = 'C:/Onedrive/Desktop/Final Year Project/Dataset/train_videos/'\n",
    "video_files = glob.glob(path + \"*.mp4\")\n",
    "len(video_files)"
   ]
  },
  {
   "cell_type": "code",
   "execution_count": null,
   "id": "f518a5d6",
   "metadata": {},
   "outputs": [],
   "source": [
    "names =[]\n",
    "for i in video_files:\n",
    "    names.append(i.split(\"\\\\\")[-1])\n",
    "len(names)"
   ]
  },
  {
   "cell_type": "code",
   "execution_count": null,
   "id": "ebc99647",
   "metadata": {},
   "outputs": [],
   "source": [
    "import os\n",
    "import shutil \n",
    "\n",
    "src = path\n",
    "dest = 'C:/Onedrive/Desktop/Final Year Project/Dataset/Fake videos/'\n",
    "print(\"Before copying file SRC:\") \n",
    "print(len(os.listdir(src)))\n",
    "print(\"Before copying file DEST:\") \n",
    "print(len(os.listdir(dest)))\n",
    "        \n",
    "real_count =[]\n",
    "fake_count = []\n",
    "for i in names:\n",
    "    if i in list_of_real:\n",
    "        #print(labels[i]['label'] , \"REAL\")\n",
    "        real_count.append(i)\n",
    "    elif i in list_of_fake:\n",
    "        #print(labels[i]['label'] , \"FAKE\")\n",
    "        fake_count.append(i)\n",
    "print(\"Count of real:\",len(real_count))\n",
    "print(\"Count of fake:\", len(fake_count))"
   ]
  },
  {
   "cell_type": "code",
   "execution_count": null,
   "id": "baeecea9",
   "metadata": {},
   "outputs": [],
   "source": [
    "src = path\n",
    "dest_f = 'C:/Onedrive/Desktop/Final Year Project/Dataset/Fake videos/'\n",
    "dest_r = 'C:/Onedrive/Desktop/Final Year Project/Dataset/Real videos/'\n",
    "\n",
    "for i in real_count:\n",
    "    if i in list_of_real:\n",
    "        if \"REAL\" == (labels[i]['label']):\n",
    "            dest_real = shutil.copyfile(src+i, dest_r+i)\n",
    "        else:\n",
    "            print(\"Pass\" + i)\n",
    "for i in fake_count[:len(real_count)]:\n",
    "    if i in list_of_fake:\n",
    "        if \"FAKE\" == (labels[i]['label']):\n",
    "            dest_fake = shutil.copyfile(src+i, dest_f+i)\n",
    "        else:\n",
    "            print(\"Pass\" + i)\n",
    "print(\"After copying file SRC:\") \n",
    "print(len(os.listdir(src)))\n",
    "print(\"After copying file DEST FAKE:\") \n",
    "print(len(os.listdir(dest_f)))\n",
    "print(\"After copying file DEST REAL:\") \n",
    "print(len(os.listdir(dest_r)))"
   ]
  },
  {
   "cell_type": "code",
   "execution_count": null,
   "id": "80eb1e5f",
   "metadata": {},
   "outputs": [],
   "source": [
    "dest_f = 'C:/Onedrive/Desktop/Final Year Project/Dataset/Fake videos/'\n",
    "dest_r = 'C:/Onedrive/Desktop/Final Year Project/Dataset/Real videos/'\n",
    "count = 0\n",
    "print(\"After copying file SRC:\") \n",
    "print(len(os.listdir(src)))\n",
    "print(\"After copying file DEST FAKE:\") \n",
    "print(len(os.listdir(dest_f)))\n",
    "print(\"After copying file DEST REAL:\") \n",
    "print(len(os.listdir(dest_r)))\n",
    "for i in glob.glob(dest_r + '*.mp4'):\n",
    "    i = i.split(\"\\\\\")[-1]\n",
    "    count +=1\n",
    "    print(labels[i]['label'] , \" == > \" , \"REAL\",'==>' ,count )\n",
    "count = 0\n",
    "for i in glob.glob(dest_f + '*.mp4'):\n",
    "    i = i.split(\"\\\\\")[-1]\n",
    "    count +=1\n",
    "    print(labels[i]['label'] , \" == > \" , \"FAKE\" , \" ==>\",count)"
   ]
  },
  {
   "cell_type": "markdown",
   "id": "9eeeb0f0",
   "metadata": {},
   "source": [
    "## Balancing the Data"
   ]
  },
  {
   "cell_type": "code",
   "execution_count": null,
   "id": "fc4845de",
   "metadata": {},
   "outputs": [],
   "source": [
    "import json\n",
    "import glob\n",
    "import numpy as np\n",
    "import cv2\n",
    "import copy\n",
    "import pandas as pd"
   ]
  },
  {
   "cell_type": "code",
   "execution_count": null,
   "id": "f8c24d4d",
   "metadata": {},
   "outputs": [],
   "source": [
    "path_to_json='C:/Onedrive/Desktop/Final Year Project/Dataset/Gobal_metadata.json'\n",
    "path_to_json = 'C:/Onedrive/Desktop/Final Year Project/Dataset/train_sample_videos/metadata.json'\n",
    "\n",
    "\n",
    "\n",
    "#path_to_json1 = '/content/dfdc_train_part_0/metadata.json'\n",
    "with open(path_to_json) as f:\n",
    "    labels = json.load(f)"
   ]
  },
  {
   "cell_type": "code",
   "execution_count": null,
   "id": "242a9607",
   "metadata": {},
   "outputs": [],
   "source": [
    "df = pd.DataFrame(labels).T\n",
    "df.sort_values('label')\n",
    "df.loc[df['label'] == 'REAL']\n",
    "read_df = pd.DataFrame(df.loc[df['label'] == 'REAL'])\n",
    "read_df.index.values\n",
    "\n",
    "list_of_real = list(read_df.index.values)\n",
    "j = 0\n",
    "print(len(list_of_real))\n",
    "for i in range(20,len(list_of_real),20):\n",
    "    print(\" OR \".join(list_of_real[j:i]))\n",
    "    j = i\n",
    "\" OR \".join() #search the output by outpu string"
   ]
  },
  {
   "cell_type": "code",
   "execution_count": null,
   "id": "fa96c499",
   "metadata": {},
   "outputs": [],
   "source": [
    "df = pd.DataFrame(labels).T\n",
    "read_df = pd.DataFrame(df.loc[df['label'] == 'FAKE'])\n",
    "read_df.index.values\n",
    "\n",
    "list_of_fake = list(read_df.index.values)\n",
    "j = 0\n",
    "print(len(list_of_fake))\n",
    "for i in range(20,len(list_of_fake),20):\n",
    "    print(\" OR \".join(list_of_fake[j:i]))\n",
    "    j = i\n",
    "\" OR \".join() #search the output by outpu string"
   ]
  },
  {
   "cell_type": "markdown",
   "id": "2c9c2875",
   "metadata": {},
   "source": [
    "## Converting LabelJSON to CSV"
   ]
  },
  {
   "cell_type": "code",
   "execution_count": null,
   "id": "b6e3e932",
   "metadata": {},
   "outputs": [],
   "source": [
    "# coding: utf-8\n",
    "import pandas as pd\n",
    "\n",
    "for i in range(8):\n",
    "    path_json = \"C:/Onedrive/Desktop/Final Year Project/Dataset/dfdc_train_part_\"+str(i)+\"/metadata.json\"\n",
    "    path_csv = \"C:/Onedrive/Desktop/Final Year Project/Datasetdfdc_train_part_\"+str(i)+\"/metadata.csv\"\n",
    "    print(path_csv)\n",
    "    print(path_json)\n",
    "    read_json = pd.read_json(path_json)\n",
    "    df = pd.DataFrame(read_json)\n",
    "    df_2 = pd.DataFrame(df.transpose())\n",
    "    df_2.to_csv(path_csv)\n",
    "    read_csv = pd.read_csv(path_csv)\n",
    "    read_csv.columns = [\"URI\",\"label\",\"original\",\"split\"]\n",
    "    read_csv.to_csv(path_csv,index=False)\n",
    "    print(read_csv.head(5))"
   ]
  }
 ],
 "metadata": {
  "kernelspec": {
   "display_name": "Python 3 (ipykernel)",
   "language": "python",
   "name": "python3"
  },
  "language_info": {
   "codemirror_mode": {
    "name": "ipython",
    "version": 3
   },
   "file_extension": ".py",
   "mimetype": "text/x-python",
   "name": "python",
   "nbconvert_exporter": "python",
   "pygments_lexer": "ipython3",
   "version": "3.9.13"
  }
 },
 "nbformat": 4,
 "nbformat_minor": 5
}
